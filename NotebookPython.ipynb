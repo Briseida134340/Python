{
 "cells": [
  {
   "cell_type": "markdown",
   "id": "d0ac0ef7",
   "metadata": {},
   "source": [
    "# Funcion print"
   ]
  },
  {
   "cell_type": "code",
   "execution_count": 1,
   "id": "5534d95c",
   "metadata": {},
   "outputs": [
    {
     "name": "stdout",
     "output_type": "stream",
     "text": [
      "hola mundo\n"
     ]
    }
   ],
   "source": [
    "print(\"hola mundo\")"
   ]
  },
  {
   "cell_type": "code",
   "execution_count": 2,
   "id": "44ab30a1",
   "metadata": {},
   "outputs": [
    {
     "name": "stdout",
     "output_type": "stream",
     "text": [
      "hola mundo\n"
     ]
    }
   ],
   "source": [
    "print('hola mundo')"
   ]
  },
  {
   "cell_type": "markdown",
   "id": "7c59ad2c",
   "metadata": {},
   "source": [
    "# Caracteres de escape y de nueva linea"
   ]
  },
  {
   "cell_type": "code",
   "execution_count": 6,
   "id": "9974710d",
   "metadata": {},
   "outputs": [
    {
     "name": "stdout",
     "output_type": "stream",
     "text": [
      "las arañas\n",
      " subieron y subieron y cayeron\n",
      "\n",
      "Las arañas subieron\n",
      " y volvieron a caer\n",
      "Hola\\como\n",
      "hola'como'\n",
      "hola \"como\"\n"
     ]
    }
   ],
   "source": [
    "print(\"las arañas\\n subieron y subieron y cayeron\")\n",
    "print()\n",
    "print(\"Las arañas subieron\\n y volvieron a caer\")\n",
    "print(\"Hola\\\\como\")\n",
    "print(\"hola\\'como'\")\n",
    "print(\"hola \\\"como\\\"\")"
   ]
  },
  {
   "cell_type": "markdown",
   "id": "9693963d",
   "metadata": {},
   "source": [
    "# Argumentos multiples (Argumentoss posicionales)"
   ]
  },
  {
   "cell_type": "code",
   "execution_count": 8,
   "id": "9aec3265",
   "metadata": {},
   "outputs": [
    {
     "name": "stdout",
     "output_type": "stream",
     "text": [
      "la araña subio subio a su telaraña\n",
      "Mi nombre es: Python\n"
     ]
    }
   ],
   "source": [
    "print('la araña subio','subio','a su telaraña')\n",
    "print(\"Mi nombre es:\" ,'Python')"
   ]
  },
  {
   "cell_type": "markdown",
   "id": "b2a3d55a",
   "metadata": {},
   "source": [
    "# Argumentos de palabras claves "
   ]
  },
  {
   "cell_type": "markdown",
   "id": "9a1383dd",
   "metadata": {},
   "source": [
    "## palabra  clave end"
   ]
  },
  {
   "cell_type": "markdown",
   "id": "c03bea5a",
   "metadata": {},
   "source": [
    "1. Un argumento de palabra clave consta de tres elementos , una palabbra clave identifica el argumento(end -termina aqui); una valor asiganadoa ese argumento \n",
    "2. Cualquier argumento de palabra clave debe de ponerse despues del ultimo argumento pocisional (esto es muy importante.)"
   ]
  },
  {
   "cell_type": "code",
   "execution_count": 12,
   "id": "33c9c3dd",
   "metadata": {},
   "outputs": [
    {
     "name": "stdout",
     "output_type": "stream",
     "text": [
      "Mi nombre es Python. Monty Python\n"
     ]
    }
   ],
   "source": [
    "print(\"Mi nombre es\", \"Python.\", end = \" \")\n",
    "print(\"Monty Python\")"
   ]
  },
  {
   "cell_type": "code",
   "execution_count": 14,
   "id": "264fca21",
   "metadata": {},
   "outputs": [
    {
     "name": "stdout",
     "output_type": "stream",
     "text": [
      "Mi nombre es Python@Monty Python\n"
     ]
    }
   ],
   "source": [
    "print(\"Mi nombre es\" ,\"Python\" , end=\"\")\n",
    "print(\"Monty Python\")"
   ]
  },
  {
   "cell_type": "markdown",
   "id": "4f5ecbc0",
   "metadata": {},
   "source": [
    "## palabra clave sep(Seperador)"
   ]
  },
  {
   "cell_type": "code",
   "execution_count": 15,
   "id": "d2ba14a5",
   "metadata": {},
   "outputs": [
    {
     "name": "stdout",
     "output_type": "stream",
     "text": [
      "Mi-nombre-es-Monty-Python.\n"
     ]
    }
   ],
   "source": [
    "print(\"Mi\" , \"nombre\",\"es\",\"Monty\" ,\"Python.\" , sep =\"-\")"
   ]
  },
  {
   "cell_type": "markdown",
   "id": "37810f26",
   "metadata": {},
   "source": [
    "## ambos argumentos de palabras claves pueden mezclarse en una invocación"
   ]
  },
  {
   "cell_type": "code",
   "execution_count": 18,
   "id": "bb936410",
   "metadata": {},
   "outputs": [
    {
     "name": "stdout",
     "output_type": "stream",
     "text": [
      "Mi-Nombre-es*"
     ]
    }
   ],
   "source": [
    "print(\"Mi\" , \"Nombre\",\"es\" , sep=\"-\",end=\"*\")"
   ]
  },
  {
   "cell_type": "code",
   "execution_count": 27,
   "id": "197a41f9",
   "metadata": {},
   "outputs": [
    {
     "name": "stdout",
     "output_type": "stream",
     "text": [
      "Mi_Nombre_es*Monty*Python*\n"
     ]
    }
   ],
   "source": [
    "print(\"Mi\",\"Nombre\", \"es\",sep=\"_\", end=\"*\")\n",
    "print(\"Monty\" , \"Python\", sep=\"*\" , end=\"*\\n\")"
   ]
  },
  {
   "cell_type": "markdown",
   "id": "be6977df",
   "metadata": {},
   "source": [
    "# Laboratorio\n",
    "## objectivos\n",
    "1. Familiarizarse con la funcion print ys sus capacidades de formato\n",
    "2. Experitar con el codigo de Python\n",
    "\n",
    "## Escenario\n",
    "** Modifica la primera linea de codigo en el editor , utilizando las palabras claves sep y end , para que concida con el resultado esperado\n",
    "Recuenda utilizar dos funciones print()**\n",
    "\n",
    "**No cambies nada en la segunda invocacion de print()**\n",
    "\n",
    "1.print(\"Fundamentos\" ,\"Programacion\" ,\"en\")\n",
    "2.print(\"Python\")\n",
    "\n",
    "## Salida esperada \n",
    "1. Fundamentos \\*\\*\\*Programacion\\*\\*\\*en...Python"
   ]
  },
  {
   "cell_type": "code",
   "execution_count": 22,
   "id": "09768cad",
   "metadata": {},
   "outputs": [
    {
     "name": "stdout",
     "output_type": "stream",
     "text": [
      "Fundamentos***Programacion***en...Python\n"
     ]
    }
   ],
   "source": [
    "print(\"Fundamentos\" ,\"Programacion\" ,\"en\" ,sep=\"***\" ,end=\"...\")\n",
    "print(\"Python\")"
   ]
  },
  {
   "cell_type": "markdown",
   "id": "102ae548",
   "metadata": {},
   "source": [
    "## Literales"
   ]
  },
  {
   "cell_type": "code",
   "execution_count": 28,
   "id": "2bb36f70",
   "metadata": {},
   "outputs": [
    {
     "name": "stdout",
     "output_type": "stream",
     "text": [
      "11111\n"
     ]
    }
   ],
   "source": [
    "print(11111)"
   ]
  },
  {
   "cell_type": "code",
   "execution_count": 29,
   "id": "56c192cd",
   "metadata": {},
   "outputs": [
    {
     "name": "stdout",
     "output_type": "stream",
     "text": [
      "-111111\n"
     ]
    }
   ],
   "source": [
    "print(-111111)"
   ]
  },
  {
   "cell_type": "code",
   "execution_count": 31,
   "id": "7018e825",
   "metadata": {},
   "outputs": [
    {
     "name": "stdout",
     "output_type": "stream",
     "text": [
      "-111111111\n"
     ]
    }
   ],
   "source": [
    "print(-111_111_111)"
   ]
  },
  {
   "cell_type": "markdown",
   "id": "166a1487",
   "metadata": {},
   "source": [
    "## Enteros:Números Octales Y Hexadecimales\n",
    "**Si un nemero entero esta precidido por un codigo 0O o 0o (cero-o) , le numero se tratara como un valor octal.esto significa qie el numero debe de contener digitos en el rango del [0..7]"
   ]
  },
  {
   "cell_type": "code",
   "execution_count": 32,
   "id": "156878c3",
   "metadata": {},
   "outputs": [
    {
     "name": "stdout",
     "output_type": "stream",
     "text": [
      "83\n"
     ]
    }
   ],
   "source": [
    "print(0o123)"
   ]
  },
  {
   "cell_type": "code",
   "execution_count": 33,
   "id": "8a4f623f",
   "metadata": {},
   "outputs": [
    {
     "name": "stdout",
     "output_type": "stream",
     "text": [
      "83\n"
     ]
    }
   ],
   "source": [
    "print(0o123)"
   ]
  },
  {
   "cell_type": "markdown",
   "id": "b8485809",
   "metadata": {},
   "source": [
    "*La segunda convecion nos permite utilizar número en hexadecimal.Dichos numeros deben se precididos por el prefijo 0x o 0X \n",
    "**0x123 es el numero hexadecimal con un valor (decimal) igual a 291.la funcion print puede manejar valores tambien**"
   ]
  },
  {
   "cell_type": "code",
   "execution_count": 34,
   "id": "c3085d80",
   "metadata": {},
   "outputs": [
    {
     "name": "stdout",
     "output_type": "stream",
     "text": [
      "291\n"
     ]
    }
   ],
   "source": [
    "print(0x123)"
   ]
  },
  {
   "cell_type": "code",
   "execution_count": 35,
   "id": "cc2bbfec",
   "metadata": {},
   "outputs": [
    {
     "name": "stdout",
     "output_type": "stream",
     "text": [
      "291\n"
     ]
    }
   ],
   "source": [
    "print(0X123)"
   ]
  },
  {
   "cell_type": "code",
   "execution_count": 37,
   "id": "28090668",
   "metadata": {},
   "outputs": [
    {
     "name": "stdout",
     "output_type": "stream",
     "text": [
      "0b100010\n"
     ]
    }
   ],
   "source": [
    "x=bin(34)\n",
    "print(x)"
   ]
  },
  {
   "cell_type": "code",
   "execution_count": 38,
   "id": "76df560c",
   "metadata": {},
   "outputs": [
    {
     "name": "stdout",
     "output_type": "stream",
     "text": [
      "0b100011\n"
     ]
    }
   ],
   "source": [
    "x=bin(35)\n",
    "print(x)"
   ]
  },
  {
   "cell_type": "markdown",
   "id": "632d34a8",
   "metadata": {},
   "source": [
    "# Flotantes"
   ]
  },
  {
   "cell_type": "code",
   "execution_count": 40,
   "id": "49c0a26b",
   "metadata": {},
   "outputs": [
    {
     "name": "stdout",
     "output_type": "stream",
     "text": [
      "0.4\n"
     ]
    }
   ],
   "source": [
    "print(.4)"
   ]
  },
  {
   "cell_type": "code",
   "execution_count": 41,
   "id": "b4cbde72",
   "metadata": {},
   "outputs": [
    {
     "name": "stdout",
     "output_type": "stream",
     "text": [
      "0.4\n"
     ]
    }
   ],
   "source": [
    "print(0.4)"
   ]
  },
  {
   "cell_type": "code",
   "execution_count": 42,
   "id": "6d66a459",
   "metadata": {},
   "outputs": [
    {
     "name": "stdout",
     "output_type": "stream",
     "text": [
      "4.0\n"
     ]
    }
   ],
   "source": [
    "print(4.0)"
   ]
  },
  {
   "cell_type": "markdown",
   "id": "78e0842c",
   "metadata": {},
   "source": [
    "**Cuando se decea utilizar numeros que son muy pequeños o muy grandes , se puede implementar la natacion cientifica.\n",
    "***Por ejemplo , la velocidad de la luz , expresado en metros por segundo"
   ]
  },
  {
   "cell_type": "code",
   "execution_count": 43,
   "id": "b03b9ab8",
   "metadata": {},
   "outputs": [
    {
     "name": "stdout",
     "output_type": "stream",
     "text": [
      "300000000.0\n"
     ]
    }
   ],
   "source": [
    "print(3E8)"
   ]
  },
  {
   "cell_type": "code",
   "execution_count": 45,
   "id": "deaf3224",
   "metadata": {},
   "outputs": [
    {
     "name": "stdout",
     "output_type": "stream",
     "text": [
      "300000000.0\n"
     ]
    }
   ],
   "source": [
    "print(3e8)"
   ]
  },
  {
   "cell_type": "code",
   "execution_count": 46,
   "id": "2ca6b3fe",
   "metadata": {},
   "outputs": [
    {
     "name": "stdout",
     "output_type": "stream",
     "text": [
      "6.62607e-34\n"
     ]
    }
   ],
   "source": [
    "print(6.62607E-34)"
   ]
  },
  {
   "cell_type": "code",
   "execution_count": 47,
   "id": "97342517",
   "metadata": {},
   "outputs": [
    {
     "name": "stdout",
     "output_type": "stream",
     "text": [
      "1e-22\n"
     ]
    }
   ],
   "source": [
    "print(0.0000000000000000000001)"
   ]
  },
  {
   "cell_type": "markdown",
   "id": "488c4fae",
   "metadata": {},
   "source": [
    "# Cadenas"
   ]
  },
  {
   "cell_type": "code",
   "execution_count": 48,
   "id": "6879f705",
   "metadata": {},
   "outputs": [
    {
     "name": "stdout",
     "output_type": "stream",
     "text": [
      "Me gusta\"Monty Python\"\n"
     ]
    }
   ],
   "source": [
    "print(\"Me gusta\\\"Monty Python\\\"\")"
   ]
  },
  {
   "cell_type": "code",
   "execution_count": 2,
   "id": "1f4e6376",
   "metadata": {},
   "outputs": [
    {
     "name": "stdout",
     "output_type": "stream",
     "text": [
      "I´m gusta Monty\n"
     ]
    }
   ],
   "source": [
    "print(\"I´m gusta Monty\")"
   ]
  },
  {
   "cell_type": "code",
   "execution_count": 1,
   "id": "f46858c2",
   "metadata": {},
   "outputs": [
    {
     "name": "stdout",
     "output_type": "stream",
     "text": [
      "I'm Monty Python\n"
     ]
    }
   ],
   "source": [
    "print('I\\'m Monty Python')"
   ]
  },
  {
   "cell_type": "markdown",
   "id": "c8b8aafa",
   "metadata": {},
   "source": [
    "## Valores Booleans"
   ]
  },
  {
   "cell_type": "code",
   "execution_count": 52,
   "id": "6ef00f37",
   "metadata": {},
   "outputs": [
    {
     "name": "stdout",
     "output_type": "stream",
     "text": [
      "True\n"
     ]
    }
   ],
   "source": [
    "print(True)"
   ]
  },
  {
   "cell_type": "code",
   "execution_count": 53,
   "id": "c15904ed",
   "metadata": {},
   "outputs": [
    {
     "name": "stdout",
     "output_type": "stream",
     "text": [
      "False\n"
     ]
    }
   ],
   "source": [
    "print(False)"
   ]
  },
  {
   "cell_type": "code",
   "execution_count": 54,
   "id": "cbb06058",
   "metadata": {},
   "outputs": [
    {
     "name": "stdout",
     "output_type": "stream",
     "text": [
      "False\n"
     ]
    }
   ],
   "source": [
    "print(True <False)"
   ]
  },
  {
   "cell_type": "code",
   "execution_count": 1,
   "id": "dc7e6a3e",
   "metadata": {},
   "outputs": [
    {
     "name": "stdout",
     "output_type": "stream",
     "text": [
      "True\n"
     ]
    }
   ],
   "source": [
    "print(True>False)"
   ]
  },
  {
   "cell_type": "markdown",
   "id": "2fd40ddb",
   "metadata": {},
   "source": [
    "# Laboratorio"
   ]
  },
  {
   "cell_type": "markdown",
   "id": "1968e166",
   "metadata": {},
   "source": [
    "## Objectivos\n",
    "\n",
    "1.Familiarizarse con la funcion de print()\n",
    "2.Practicar el codificar cadenas\n",
    "3.Experimentar con el codigo de Python\n",
    "\n",
    "## Ecenarios\n",
    "\n",
    "**Escribe en una sola linea de código utilizando la función print() , asi como los caracteres de mueva linea y escapes , para obtener la salida esperada***"
   ]
  },
  {
   "cell_type": "code",
   "execution_count": 2,
   "id": "8517d565",
   "metadata": {},
   "outputs": [
    {
     "ename": "SyntaxError",
     "evalue": "unexpected character after line continuation character (1714448455.py, line 1)",
     "output_type": "error",
     "traceback": [
      "\u001b[1;36m  Input \u001b[1;32mIn [2]\u001b[1;36m\u001b[0m\n\u001b[1;33m    print(\"\\\"Estoy\"\\\"\")\u001b[0m\n\u001b[1;37m                    ^\u001b[0m\n\u001b[1;31mSyntaxError\u001b[0m\u001b[1;31m:\u001b[0m unexpected character after line continuation character\n"
     ]
    }
   ],
   "source": [
    "print(\"\\\"Estoy\"\\)"
   ]
  },
  {
   "cell_type": "code",
   "execution_count": null,
   "id": "7e831855",
   "metadata": {},
   "outputs": [],
   "source": []
  }
 ],
 "metadata": {
  "kernelspec": {
   "display_name": "Python 3 (ipykernel)",
   "language": "python",
   "name": "python3"
  },
  "language_info": {
   "codemirror_mode": {
    "name": "ipython",
    "version": 3
   },
   "file_extension": ".py",
   "mimetype": "text/x-python",
   "name": "python",
   "nbconvert_exporter": "python",
   "pygments_lexer": "ipython3",
   "version": "3.10.4"
  }
 },
 "nbformat": 4,
 "nbformat_minor": 5
}
